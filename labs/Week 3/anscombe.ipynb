{
 "cells": [
  {
   "cell_type": "code",
   "execution_count": 1,
   "metadata": {
    "collapsed": false
   },
   "outputs": [
    {
     "name": "stderr",
     "output_type": "stream",
     "text": [
      "//anaconda/lib/python2.7/site-packages/matplotlib/font_manager.py:273: UserWarning: Matplotlib is building the font cache using fc-list. This may take a moment.\n",
      "  warnings.warn('Matplotlib is building the font cache using fc-list. This may take a moment.')\n"
     ]
    }
   ],
   "source": [
    "%matplotlib inline\n"
   ]
  },
  {
   "cell_type": "code",
   "execution_count": 14,
   "metadata": {
    "collapsed": true
   },
   "outputs": [],
   "source": [
    "import pandas\n",
    "import matplotlib.pyplot\n",
    "import sklearn.linear_model\n",
    "import time"
   ]
  },
  {
   "cell_type": "code",
   "execution_count": 3,
   "metadata": {
    "collapsed": true
   },
   "outputs": [],
   "source": [
    "df = pandas.read_csv('../data/anscombe.csv', sep='\\t')\n"
   ]
  },
  {
   "cell_type": "code",
   "execution_count": 4,
   "metadata": {
    "collapsed": false
   },
   "outputs": [
    {
     "data": {
      "text/html": [
       "<div>\n",
       "<table border=\"1\" class=\"dataframe\">\n",
       "  <thead>\n",
       "    <tr style=\"text-align: right;\">\n",
       "      <th></th>\n",
       "      <th>one_x</th>\n",
       "      <th>one_y</th>\n",
       "      <th>two_x</th>\n",
       "      <th>two_y</th>\n",
       "      <th>three_x</th>\n",
       "      <th>three_y</th>\n",
       "      <th>four_x</th>\n",
       "      <th>four_y</th>\n",
       "    </tr>\n",
       "  </thead>\n",
       "  <tbody>\n",
       "    <tr>\n",
       "      <th>0</th>\n",
       "      <td>10.0</td>\n",
       "      <td>8.04</td>\n",
       "      <td>10.0</td>\n",
       "      <td>9.14</td>\n",
       "      <td>10.0</td>\n",
       "      <td>7.46</td>\n",
       "      <td>8.0</td>\n",
       "      <td>6.58</td>\n",
       "    </tr>\n",
       "    <tr>\n",
       "      <th>1</th>\n",
       "      <td>8.0</td>\n",
       "      <td>6.95</td>\n",
       "      <td>8.0</td>\n",
       "      <td>8.14</td>\n",
       "      <td>8.0</td>\n",
       "      <td>6.77</td>\n",
       "      <td>8.0</td>\n",
       "      <td>5.76</td>\n",
       "    </tr>\n",
       "    <tr>\n",
       "      <th>2</th>\n",
       "      <td>13.0</td>\n",
       "      <td>7.58</td>\n",
       "      <td>13.0</td>\n",
       "      <td>8.74</td>\n",
       "      <td>13.0</td>\n",
       "      <td>12.74</td>\n",
       "      <td>8.0</td>\n",
       "      <td>7.71</td>\n",
       "    </tr>\n",
       "    <tr>\n",
       "      <th>3</th>\n",
       "      <td>9.0</td>\n",
       "      <td>8.81</td>\n",
       "      <td>9.0</td>\n",
       "      <td>8.77</td>\n",
       "      <td>9.0</td>\n",
       "      <td>7.11</td>\n",
       "      <td>8.0</td>\n",
       "      <td>8.84</td>\n",
       "    </tr>\n",
       "    <tr>\n",
       "      <th>4</th>\n",
       "      <td>11.0</td>\n",
       "      <td>8.33</td>\n",
       "      <td>11.0</td>\n",
       "      <td>9.26</td>\n",
       "      <td>11.0</td>\n",
       "      <td>7.81</td>\n",
       "      <td>8.0</td>\n",
       "      <td>8.47</td>\n",
       "    </tr>\n",
       "    <tr>\n",
       "      <th>5</th>\n",
       "      <td>14.0</td>\n",
       "      <td>9.96</td>\n",
       "      <td>14.0</td>\n",
       "      <td>8.10</td>\n",
       "      <td>14.0</td>\n",
       "      <td>8.84</td>\n",
       "      <td>8.0</td>\n",
       "      <td>7.04</td>\n",
       "    </tr>\n",
       "    <tr>\n",
       "      <th>6</th>\n",
       "      <td>6.0</td>\n",
       "      <td>7.24</td>\n",
       "      <td>6.0</td>\n",
       "      <td>6.13</td>\n",
       "      <td>6.0</td>\n",
       "      <td>6.08</td>\n",
       "      <td>8.0</td>\n",
       "      <td>5.25</td>\n",
       "    </tr>\n",
       "    <tr>\n",
       "      <th>7</th>\n",
       "      <td>4.0</td>\n",
       "      <td>4.26</td>\n",
       "      <td>4.0</td>\n",
       "      <td>3.10</td>\n",
       "      <td>4.0</td>\n",
       "      <td>5.39</td>\n",
       "      <td>19.0</td>\n",
       "      <td>12.50</td>\n",
       "    </tr>\n",
       "    <tr>\n",
       "      <th>8</th>\n",
       "      <td>12.0</td>\n",
       "      <td>10.84</td>\n",
       "      <td>12.0</td>\n",
       "      <td>9.13</td>\n",
       "      <td>12.0</td>\n",
       "      <td>8.15</td>\n",
       "      <td>8.0</td>\n",
       "      <td>5.56</td>\n",
       "    </tr>\n",
       "    <tr>\n",
       "      <th>9</th>\n",
       "      <td>7.0</td>\n",
       "      <td>4.82</td>\n",
       "      <td>7.0</td>\n",
       "      <td>7.26</td>\n",
       "      <td>7.0</td>\n",
       "      <td>6.42</td>\n",
       "      <td>8.0</td>\n",
       "      <td>7.91</td>\n",
       "    </tr>\n",
       "    <tr>\n",
       "      <th>10</th>\n",
       "      <td>5.0</td>\n",
       "      <td>5.68</td>\n",
       "      <td>5.0</td>\n",
       "      <td>4.74</td>\n",
       "      <td>5.0</td>\n",
       "      <td>5.73</td>\n",
       "      <td>8.0</td>\n",
       "      <td>6.89</td>\n",
       "    </tr>\n",
       "  </tbody>\n",
       "</table>\n",
       "</div>"
      ],
      "text/plain": [
       "    one_x  one_y  two_x  two_y  three_x  three_y  four_x  four_y\n",
       "0    10.0   8.04   10.0   9.14     10.0     7.46     8.0    6.58\n",
       "1     8.0   6.95    8.0   8.14      8.0     6.77     8.0    5.76\n",
       "2    13.0   7.58   13.0   8.74     13.0    12.74     8.0    7.71\n",
       "3     9.0   8.81    9.0   8.77      9.0     7.11     8.0    8.84\n",
       "4    11.0   8.33   11.0   9.26     11.0     7.81     8.0    8.47\n",
       "5    14.0   9.96   14.0   8.10     14.0     8.84     8.0    7.04\n",
       "6     6.0   7.24    6.0   6.13      6.0     6.08     8.0    5.25\n",
       "7     4.0   4.26    4.0   3.10      4.0     5.39    19.0   12.50\n",
       "8    12.0  10.84   12.0   9.13     12.0     8.15     8.0    5.56\n",
       "9     7.0   4.82    7.0   7.26      7.0     6.42     8.0    7.91\n",
       "10    5.0   5.68    5.0   4.74      5.0     5.73     8.0    6.89"
      ]
     },
     "execution_count": 4,
     "metadata": {},
     "output_type": "execute_result"
    }
   ],
   "source": [
    "df"
   ]
  },
  {
   "cell_type": "code",
   "execution_count": 12,
   "metadata": {
    "collapsed": false
   },
   "outputs": [
    {
     "data": {
      "text/plain": [
       "<matplotlib.collections.PathCollection at 0x11a04c2d0>"
      ]
     },
     "execution_count": 12,
     "metadata": {},
     "output_type": "execute_result"
    },
    {
     "data": {
      "image/png": "[encoded data removed]",
      "text/plain": [
       "<matplotlib.figure.Figure at 0x1196d9f10>"
      ]
     },
     "metadata": {},
     "output_type": "display_data"
    }
   ],
   "source": [
    "matplotlib.pyplot.scatter(df.one_x, df.one_y, color='red')\n",
    "matplotlib.pyplot.scatter(df.two_x, df.two_y, color='green')\n",
    "matplotlib.pyplot.scatter(df.three_x, df.three_y, color='blue')\n",
    "matplotlib.pyplot.scatter(df.four_x, df.four_y, color='black')"
   ]
  },
  {
   "cell_type": "code",
   "execution_count": 15,
   "metadata": {
    "collapsed": false
   },
   "outputs": [
    {
     "data": {
      "text/plain": [
       "[<matplotlib.lines.Line2D at 0x11a34fc10>]"
      ]
     },
     "execution_count": 15,
     "metadata": {},
     "output_type": "execute_result"
    },
    {
     "data": {
      "image/png": "[encoded data removed]",
      "text/plain": [
       "<matplotlib.figure.Figure at 0x118587950>"
      ]
     },
     "metadata": {},
     "output_type": "display_data"
    }
   ],
   "source": [
    "\n",
    "clf = sklearn.linear_model.LinearRegression()\n",
    "clf.fit(df.iloc[:,[0]], df.one_y)\n",
    "theil = sklearn.linear_model.TheilSenRegressor()\n",
    "theil.fit(df.iloc[:,[0]], df.one_y)\n",
    "ransac = sklearn.linear_model.RANSACRegressor()\n",
    "ransac.fit(df.iloc[:,[0]], df.one_y)\n",
    "matplotlib.pyplot.scatter(df.one_x, df.one_y)\n",
    "time.sleep(1)\n",
    "matplotlib.pyplot.plot(df.one_x, clf.predict(df.one_x.reshape(-1,1)), color='blue', linewidth=3)\n",
    "time.sleep(1)\n",
    "matplotlib.pyplot.plot(df.one_x, theil.predict(df.one_x.reshape(-1,1)), color='red', linewidth=1)\n",
    "time.sleep(1)\n",
    "matplotlib.pyplot.plot(df.one_x, ransac.predict(df.one_x.reshape(-1,1)), color='yellow', linewidth=1)"
   ]
  },
  {
   "cell_type": "code",
   "execution_count": 7,
   "metadata": {
    "collapsed": false
   },
   "outputs": [
    {
     "data": {
      "text/plain": [
       "[<matplotlib.lines.Line2D at 0x1183bbb90>]"
      ]
     },
     "execution_count": 7,
     "metadata": {},
     "output_type": "execute_result"
    },
    {
     "data": {
      "image/png": "[encoded data removed]",
      "text/plain": [
       "<matplotlib.figure.Figure at 0x1158cbf50>"
      ]
     },
     "metadata": {},
     "output_type": "display_data"
    }
   ],
   "source": [
    "import sklearn.linear_model\n",
    "import matplotlib.pyplot\n",
    "clf = sklearn.linear_model.LinearRegression()\n",
    "clf.fit(df.iloc[:,[2]], df.two_y)\n",
    "theil = sklearn.linear_model.TheilSenRegressor()\n",
    "theil.fit(df.iloc[:,[2]], df.two_y)\n",
    "ransac = sklearn.linear_model.RANSACRegressor()\n",
    "ransac.fit(df.iloc[:,[2]], df.two_y)\n",
    "matplotlib.pyplot.scatter(df.two_x, df.two_y)\n",
    "matplotlib.pyplot.plot(df.two_x, clf.predict(df.two_x.reshape(-1,1)), color='blue', linewidth=3)\n",
    "matplotlib.pyplot.plot(df.two_x, theil.predict(df.two_x.reshape(-1,1)), color='red', linewidth=1)\n",
    "matplotlib.pyplot.plot(df.two_x, ransac.predict(df.two_x.reshape(-1,1)), color='yellow', linewidth=1)"
   ]
  },
  {
   "cell_type": "code",
   "execution_count": 8,
   "metadata": {
    "collapsed": false
   },
   "outputs": [
    {
     "data": {
      "text/plain": [
       "[<matplotlib.lines.Line2D at 0x11867fb90>]"
      ]
     },
     "execution_count": 8,
     "metadata": {},
     "output_type": "execute_result"
    },
    {
     "data": {
      "image/png": "[encoded data removed]",
      "text/plain": [
       "<matplotlib.figure.Figure at 0x115920c50>"
      ]
     },
     "metadata": {},
     "output_type": "display_data"
    }
   ],
   "source": [
    "import sklearn.linear_model\n",
    "import matplotlib.pyplot\n",
    "clf = sklearn.linear_model.LinearRegression()\n",
    "clf.fit(df.iloc[:,[4]], df.three_y)\n",
    "theil = sklearn.linear_model.TheilSenRegressor()\n",
    "theil.fit(df.iloc[:,[4]], df.three_y)\n",
    "ransac = sklearn.linear_model.RANSACRegressor()\n",
    "ransac.fit(df.iloc[:,[4]], df.three_y)\n",
    "matplotlib.pyplot.scatter(df.three_x, df.three_y)\n",
    "matplotlib.pyplot.plot(df.three_x, clf.predict(df.three_x.reshape(-1,1)), color='blue', linewidth=3)\n",
    "matplotlib.pyplot.plot(df.three_x, theil.predict(df.three_x.reshape(-1,1)), color='red', linewidth=1)\n",
    "matplotlib.pyplot.plot(df.three_x, ransac.predict(df.three_x.reshape(-1,1)), color='yellow', linewidth=1)"
   ]
  },
  {
   "cell_type": "code",
   "execution_count": 9,
   "metadata": {
    "collapsed": false
   },
   "outputs": [
    {
     "data": {
      "text/plain": [
       "[<matplotlib.lines.Line2D at 0x1187dffd0>]"
      ]
     },
     "execution_count": 9,
     "metadata": {},
     "output_type": "execute_result"
    },
    {
     "data": {
      "image/png": "[encoded data removed]",
      "text/plain": [
       "<matplotlib.figure.Figure at 0x118587550>"
      ]
     },
     "metadata": {},
     "output_type": "display_data"
    }
   ],
   "source": [
    "import sklearn.linear_model\n",
    "import matplotlib.pyplot\n",
    "clf = sklearn.linear_model.LinearRegression()\n",
    "clf.fit(df.iloc[:,[6]], df.four_y)\n",
    "theil = sklearn.linear_model.TheilSenRegressor()\n",
    "theil.fit(df.iloc[:,[6]], df.four_y)\n",
    "ransac = sklearn.linear_model.RANSACRegressor()\n",
    "ransac.fit(df.iloc[:,[6]], df.four_y)\n",
    "matplotlib.pyplot.scatter(df.four_x, df.four_y)\n",
    "matplotlib.pyplot.plot(df.four_x, clf.predict(df.four_x.reshape(-1,1)), color='blue', linewidth=3)\n",
    "matplotlib.pyplot.plot(df.four_x, theil.predict(df.four_x.reshape(-1,1)), color='red', linewidth=1)\n",
    "matplotlib.pyplot.plot(df.four_x, ransac.predict(df.four_x.reshape(-1,1)), color='yellow', linewidth=1)"
   ]
  },
  {
   "cell_type": "code",
   "execution_count": null,
   "metadata": {
    "collapsed": true
   },
   "outputs": [],
   "source": []
  }
 ],
 "metadata": {
  "kernelspec": {
   "display_name": "Python 2",
   "language": "python",
   "name": "python2"
  },
  "language_info": {
   "codemirror_mode": {
    "name": "ipython",
    "version": 2
   },
   "file_extension": ".py",
   "mimetype": "text/x-python",
   "name": "python",
   "nbconvert_exporter": "python",
   "pygments_lexer": "ipython2",
   "version": "2.7.11"
  }
 },
 "nbformat": 4,
 "nbformat_minor": 0
}
