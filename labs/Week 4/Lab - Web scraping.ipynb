{
 "cells": [
  {
   "cell_type": "markdown",
   "metadata": {},
   "source": [
    "# Data Acquisition Lab\n",
    "\n",
    "This lab is divided into short sections, one for each section of theory."
   ]
  },
  {
   "cell_type": "markdown",
   "metadata": {},
   "source": [
    "## Accessing Unprotected Web pages"
   ]
  },
  {
   "cell_type": "code",
   "execution_count": 16,
   "metadata": {
    "collapsed": true
   },
   "outputs": [],
   "source": [
    "# import the Python requests library so that you can use it in your program\n",
    "import requests as rq"
   ]
  },
  {
   "cell_type": "code",
   "execution_count": 17,
   "metadata": {
    "collapsed": true
   },
   "outputs": [],
   "source": [
    "# Go to the Australian Bureau of Meteorology website and work out which page corresponds to the\n",
    "# Sydney weather forecast. Store that in a variable here\n",
    "url = 'http://www.bom.gov.au/nsw/forecasts/sydney.shtml'"
   ]
  },
  {
   "cell_type": "code",
   "execution_count": 18,
   "metadata": {
    "collapsed": false
   },
   "outputs": [],
   "source": [
    "# Use the requests.get() method to fetch that page\n",
    "r = rq.get(url)"
   ]
  },
  {
   "cell_type": "code",
   "execution_count": 19,
   "metadata": {
    "collapsed": false
   },
   "outputs": [
    {
     "data": {
      "text/plain": [
       "200"
      ]
     },
     "execution_count": 19,
     "metadata": {},
     "output_type": "execute_result"
    }
   ],
   "source": [
    "# Did that succeed? What was the .status_code?\n",
    "r.status_code"
   ]
  },
  {
   "cell_type": "code",
   "execution_count": 20,
   "metadata": {
    "collapsed": false
   },
   "outputs": [],
   "source": [
    "# What was the .text or .content of that page? Save it in a variable, because we will be using it\n",
    "# a little later\n",
    "syd_weath_html = r.text"
   ]
  },
  {
   "cell_type": "markdown",
   "metadata": {},
   "source": [
    "## Accessing forms\n",
    "\n",
    "The pandas library already has a module for getting information from the Yahoo Finance pages, \n",
    "so you are unlikely to use the following code in any normal environment. But it's an example of\n",
    "a simple web API"
   ]
  },
  {
   "cell_type": "code",
   "execution_count": null,
   "metadata": {
    "collapsed": true
   },
   "outputs": [],
   "source": [
    "# There is a stock price lookup form on https://au.finance.yahoo.com (it says Enter Symbol)\n",
    "# Inspect that element, and identify:\n",
    "# - The <INPUT> tag with the name \"s\"\n",
    "# - The <INPUT> tag with the name \"ql\" (which has a type of \"hidden\")\n",
    "# - The <FORM> tag surrounding them with the action of \"/q\" and the method of GET\n",
    "#\n",
    "# Create a dictionary with appropriate keys to provide values for the input tags.\n",
    "# Create a variable with the full URL to submit to"
   ]
  },
  {
   "cell_type": "code",
   "execution_count": null,
   "metadata": {
    "collapsed": true
   },
   "outputs": [],
   "source": [
    "# Use requests.get to retrieve that page"
   ]
  },
  {
   "cell_type": "markdown",
   "metadata": {},
   "source": [
    "## Secured pages\n",
    "\n",
    "The username for files under http://www.ifost.org.au/ga/protected is \"ga\" and the password is \"s3cr3t\"\n",
    "\n",
    "In this section we will fetch a file from a website that requires authentication."
   ]
  },
  {
   "cell_type": "code",
   "execution_count": 9,
   "metadata": {
    "collapsed": false
   },
   "outputs": [
    {
     "data": {
      "text/plain": [
       "401"
      ]
     },
     "execution_count": 9,
     "metadata": {},
     "output_type": "execute_result"
    }
   ],
   "source": [
    "# What happens if you use the requests library to fetch http://www.ifost.org.au/ga/protected/data.json \n",
    "# without supplying a password? What is the .status_code?\n",
    "r = rq.get('http://www.ifost.org.au/ga/protected/data.json')\n",
    "r.status_code"
   ]
  },
  {
   "cell_type": "code",
   "execution_count": 14,
   "metadata": {
    "collapsed": false
   },
   "outputs": [
    {
     "data": {
      "text/plain": [
       "200"
      ]
     },
     "execution_count": 14,
     "metadata": {},
     "output_type": "execute_result"
    }
   ],
   "source": [
    "# Try again, but this time supplying a username and password\n",
    "r = rq.get('http://kemek.ifost.org.au/ga/protected/data.json', auth = ('ga', 's3cr3t'))\n",
    "r.status_code"
   ]
  },
  {
   "cell_type": "code",
   "execution_count": 15,
   "metadata": {
    "collapsed": false
   },
   "outputs": [
    {
     "data": {
      "text/plain": [
       "u'{\\n \"result\": \"success\",\\n \"message\": \"you have accessed data from a protected page\"\\n}\\n'"
      ]
     },
     "execution_count": 15,
     "metadata": {},
     "output_type": "execute_result"
    }
   ],
   "source": [
    "r.text"
   ]
  },
  {
   "cell_type": "markdown",
   "metadata": {},
   "source": [
    "## Parsing HTML\n",
    "\n",
    "In this section we will find the prediction for tomorrow's weather."
   ]
  },
  {
   "cell_type": "code",
   "execution_count": 21,
   "metadata": {
    "collapsed": true
   },
   "outputs": [],
   "source": [
    "# import BeautifulSoup library (version 4)\n",
    "from bs4 import BeautifulSoup"
   ]
  },
  {
   "cell_type": "code",
   "execution_count": 22,
   "metadata": {
    "collapsed": true
   },
   "outputs": [],
   "source": [
    "# Create a variable called \"soup\" with the result of parsing the Bureau of Meteorology prediction for\n",
    "# Sydney that you captured at the start of this notebook.\n",
    "soup = BeautifulSoup(syd_weath_html, 'lxml')"
   ]
  },
  {
   "cell_type": "code",
   "execution_count": 25,
   "metadata": {
    "collapsed": false
   },
   "outputs": [],
   "source": [
    "def has_the_word_tuesday(x):\n",
    "    return 'Tuesday' in x\n",
    "\n",
    "# Find the first element in \"soup\" which has the word Tuesday in it\n",
    "# You might find the function \"has_the_word_tuesday\" helpful\n",
    "tues_elt = soup.find(string=has_the_word_tuesday)"
   ]
  },
  {
   "cell_type": "code",
   "execution_count": 38,
   "metadata": {
    "collapsed": false
   },
   "outputs": [
    {
     "data": {
      "text/plain": [
       "<div class=\"day main\">\\n<h2>Tuesday 28 June</h2>\\n<div class=\"forecast\">\\n<dl>\\n<dt>Summary</dt>\\n<dd class=\"image\">\\n<img alt=\"\" height=\"42\" src=\"/images/symbols/large/partly-cloudy.png\" width=\"45\"/>\\n</dd>\\n<dd>Min <em class=\"min\">10</em></dd>\\n<dd>Max <em class=\"max\">18</em></dd>\\n<dd class=\"summary\">Cloud clearing.</dd>\\n<dd class=\"rain\">Possible rainfall: <em class=\"rain\">0 mm</em></dd>\\n<dd class=\"rain\">Chance of any rain: <em class=\"pop\">10%\\n\\t\\t\\t\\t\\t<img alt=\"\" height=\"10\" src=\"/images/ui/weather/rain_10.gif\" width=\"69\"/></em></dd>\\n</dl>\\n<h3>Sydney area</h3>\\n<p>Sunny. Winds southwesterly 20 to 30 km/h becoming light in the late afternoon.</p>\\n</div>\\n<p class=\"alert\">No UV Alert, UV Index predicted to reach 2 [Low]</p>\\n</div>"
      ]
     },
     "execution_count": 38,
     "metadata": {},
     "output_type": "execute_result"
    }
   ],
   "source": [
    "# The weather prediction is obviously going to be in a <DIV> that includes it\n",
    "# Display the parent of the element you found in the previous cell. You might\n",
    "# find the .prettify() method makes it easier to display\n",
    "tues_div = tues_elt.parent.parent\n",
    "tues_div"
   ]
  },
  {
   "cell_type": "code",
   "execution_count": 41,
   "metadata": {
    "collapsed": false
   },
   "outputs": [
    {
     "data": {
      "text/plain": [
       "<dd class=\"summary\">Cloud clearing.</dd>"
      ]
     },
     "execution_count": 41,
     "metadata": {},
     "output_type": "execute_result"
    }
   ],
   "source": [
    "# Can you find a <DD> element with a CSS class \"summary\"? (Use the parameter class_ in BeautifulSoup)\n",
    "tues_div.find('dd', class_='summary')"
   ]
  },
  {
   "cell_type": "code",
   "execution_count": 42,
   "metadata": {
    "collapsed": false
   },
   "outputs": [
    {
     "data": {
      "text/plain": [
       "u'Cloud clearing.'"
      ]
     },
     "execution_count": 42,
     "metadata": {},
     "output_type": "execute_result"
    }
   ],
   "source": [
    "# Display the \"string\" attribute of this summary element. Do you need to bring an umbrella?\n",
    "tues_div.find('dd', class_='summary').string"
   ]
  },
  {
   "cell_type": "code",
   "execution_count": 74,
   "metadata": {
    "collapsed": false
   },
   "outputs": [],
   "source": [
    "# getting all the days forcast\n",
    "# this is a bit silly ---> [x for x in tues_div.parent.children if (x!='\\n')] \n",
    "# just do this instead:\n",
    "days_elts = tues_div.parent.find_all('div', class_=\"day\")"
   ]
  },
  {
   "cell_type": "code",
   "execution_count": 75,
   "metadata": {
    "collapsed": false
   },
   "outputs": [
    {
     "data": {
      "text/plain": [
       "[(<h2>Forecast for the rest of Monday</h2>,\n",
       "  <dd class=\"summary\">A little rain at times.</dd>),\n",
       " (<h2>Tuesday 28 June</h2>, <dd class=\"summary\">Cloud clearing.</dd>),\n",
       " (<h2>Wednesday 29 June</h2>, <dd class=\"summary\">Sunny.</dd>),\n",
       " (<h2>Thursday 30 June</h2>, <dd class=\"summary\">Partly cloudy.</dd>),\n",
       " (<h2>Friday 1 July</h2>, <dd class=\"summary\">Partly cloudy.</dd>),\n",
       " (<h2>Saturday 2 July</h2>, <dd class=\"summary\">Partly cloudy.</dd>),\n",
       " (<h2>Sunday 3 July</h2>, <dd class=\"summary\">Sunny.</dd>),\n",
       " (<h2>Monday 4 July</h2>, <dd class=\"summary\">Partly cloudy.</dd>)]"
      ]
     },
     "execution_count": 75,
     "metadata": {},
     "output_type": "execute_result"
    }
   ],
   "source": [
    "[(x.find('h2'),x.find('dd', class_='summary')) for x in days_elts]"
   ]
  },
  {
   "cell_type": "markdown",
   "metadata": {},
   "source": [
    "## JSON APIs\n",
    "\n",
    "Many websites display their information in JSON format. In this section we will interact\n",
    "with the Pokemon database http://pokeapi.co/"
   ]
  },
  {
   "cell_type": "code",
   "execution_count": null,
   "metadata": {
    "collapsed": true
   },
   "outputs": [],
   "source": [
    "# Look up their documentation. What is the base URL for querying a Pokemon? What URL\n",
    "# would you use to look up the Pokemon called \"Groudon\"? Store it in a variable"
   ]
  },
  {
   "cell_type": "code",
   "execution_count": 76,
   "metadata": {
    "collapsed": true
   },
   "outputs": [],
   "source": [
    "# Use the requests library to fetch the Groudon data\n",
    "g = requests.get('http://pokeapi.co/api/v2/pokemon/groudon')"
   ]
  },
  {
   "cell_type": "code",
   "execution_count": 77,
   "metadata": {
    "collapsed": false
   },
   "outputs": [
    {
     "data": {
      "text/plain": [
       "200"
      ]
     },
     "execution_count": 77,
     "metadata": {},
     "output_type": "execute_result"
    }
   ],
   "source": [
    "# Check the status code to make sure that it worked\n",
    "g.status_code"
   ]
  },
  {
   "cell_type": "code",
   "execution_count": 78,
   "metadata": {
    "collapsed": true
   },
   "outputs": [],
   "source": [
    "# Is the content of the response in JSON format? Use the requests library function\n",
    "# to decode it from JSON format into a Python dictionary\n",
    "groudon_dict = g.json()"
   ]
  },
  {
   "cell_type": "code",
   "execution_count": 79,
   "metadata": {
    "collapsed": false
   },
   "outputs": [
    {
     "data": {
      "text/plain": [
       "[u'is_default',\n",
       " u'abilities',\n",
       " u'stats',\n",
       " u'name',\n",
       " u'weight',\n",
       " u'held_items',\n",
       " u'location_area_encounters',\n",
       " u'height',\n",
       " u'forms',\n",
       " u'base_experience',\n",
       " u'id',\n",
       " u'game_indices',\n",
       " u'species',\n",
       " u'moves',\n",
       " u'order',\n",
       " u'sprites',\n",
       " u'types']"
      ]
     },
     "execution_count": 79,
     "metadata": {},
     "output_type": "execute_result"
    }
   ],
   "source": [
    "# What are the keys of this python dictionary?\n",
    "groudon_dict.keys()"
   ]
  },
  {
   "cell_type": "code",
   "execution_count": 80,
   "metadata": {
    "collapsed": false
   },
   "outputs": [
    {
     "data": {
      "text/plain": [
       "9500"
      ]
     },
     "execution_count": 80,
     "metadata": {},
     "output_type": "execute_result"
    }
   ],
   "source": [
    "# Is \"weight\" listed there? If so, then the value in it should be a number\n",
    "# If you play Pokemon, does this number look reasonable?\n",
    "groudon_dict['weight']"
   ]
  },
  {
   "cell_type": "code",
   "execution_count": null,
   "metadata": {
    "collapsed": true
   },
   "outputs": [],
   "source": [
    "    "
   ]
  }
 ],
 "metadata": {
  "kernelspec": {
   "display_name": "Python 2",
   "language": "python",
   "name": "python2"
  },
  "language_info": {
   "codemirror_mode": {
    "name": "ipython",
    "version": 2
   },
   "file_extension": ".py",
   "mimetype": "text/x-python",
   "name": "python",
   "nbconvert_exporter": "python",
   "pygments_lexer": "ipython2",
   "version": "2.7.11"
  }
 },
 "nbformat": 4,
 "nbformat_minor": 0
}
